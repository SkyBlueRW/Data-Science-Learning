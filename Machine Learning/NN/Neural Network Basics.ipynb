{
 "cells": [
  {
   "cell_type": "code",
   "execution_count": null,
   "id": "0b921956",
   "metadata": {},
   "outputs": [],
   "source": [
    "import numpy as np "
   ]
  },
  {
   "cell_type": "markdown",
   "id": "1e4597a7",
   "metadata": {},
   "source": [
    "# Neural Network\n",
    "\n",
    "**Implementation**\n",
    "\n",
    "    1. Define the neural network structure ( # of input units,  # of hidden units, etc). \n",
    "    2. Initialize the model's parameters\n",
    "    3. Loop:\n",
    "        - Implement forward propagation\n",
    "        - Compute loss\n",
    "        - Implement backward propagation to get the gradients\n",
    "        - Update parameters (gradient descent)\n",
    "\n",
    "##  Propagation\n",
    "**Notation**\n",
    "- $L$: Number of layer\n",
    "- $n^{[l]}$: Number of unitis in layer l\n",
    "- $a^{[l]}$: Activation in layer l\n",
    "\n",
    "### Forward Propagation\n",
    "\n",
    "**Sample i**\n",
    "$$\n",
    "\\begin{aligned}\n",
    "a^{[0]}(i) &= x(i) \\\\\n",
    "z^{[l]}(i) &= W^{[l]}a^{[l-1]}(i) + b^{[l]}\\\\\n",
    "a^{[l]}(i) &= g^{[l]}(z^{[l]}(i))\\\n",
    "\\end{aligned}\n",
    "$$\n",
    "\n",
    "**Matrix Form (i=1...m)**\n",
    "\n",
    "$$\n",
    "\\begin{aligned}\n",
    "X &= [x(1), ... ,x(n)]_{n_x, m} \\\\\n",
    "Z^{[l]} &= [z^{[l]}(1), ... z^{[l]}(m)]\\\\\n",
    "A^{[l]} &= [a{[l]}(1), ..., a{[l]}(m)]\\\\\n",
    "Z^{[l]} &= W^{[l]}A^{[l-1]} + b^{[l]}\\\\\n",
    "A^{[l]} &= g^{[l]}(Z^{[l]})\n",
    "\\end{aligned}\n",
    "$$\n",
    "\n",
    "### Backward Propagation"
   ]
  },
  {
   "cell_type": "markdown",
   "id": "bfe3e292",
   "metadata": {},
   "source": [
    "## Activation Function\n",
    "\n",
    "Important to include nonlinearity"
   ]
  },
  {
   "cell_type": "code",
   "execution_count": 15,
   "id": "b930ceef",
   "metadata": {},
   "outputs": [],
   "source": [
    "def sigmoid(x):\n",
    "    return 1 / (1 + np.exp(-x))\n",
    "\n",
    "def tanh(x):\n",
    "    return np.tanh(x)\n",
    "\n",
    "def reulu(x):\n",
    "    return np.maximum(x, 0)\n",
    "\n",
    "def sigmoid_derivative(x):\n",
    "    return sigmoid(x) * (1 - sigmoid(x))\n",
    "\n",
    "def tanh_derivative(x):\n",
    "    return 1 - tanh(x) **2\n",
    "\n",
    "def relu_derivative(x):\n",
    "    return np.maximum(np.sign(x), 0)"
   ]
  },
  {
   "cell_type": "markdown",
   "id": "fe66225c",
   "metadata": {},
   "source": [
    "## Random Initialization\n",
    "\n",
    "- $W^{[l]}$ can not be initialized to all 0s due to symmetry issues.\n",
    "- b does not have this issue"
   ]
  },
  {
   "cell_type": "code",
   "execution_count": null,
   "id": "9a097019",
   "metadata": {},
   "outputs": [],
   "source": []
  }
 ],
 "metadata": {
  "kernelspec": {
   "display_name": "Python 3 (ipykernel)",
   "language": "python",
   "name": "python3"
  },
  "language_info": {
   "codemirror_mode": {
    "name": "ipython",
    "version": 3
   },
   "file_extension": ".py",
   "mimetype": "text/x-python",
   "name": "python",
   "nbconvert_exporter": "python",
   "pygments_lexer": "ipython3",
   "version": "3.8.8"
  },
  "toc": {
   "base_numbering": 1,
   "nav_menu": {},
   "number_sections": true,
   "sideBar": true,
   "skip_h1_title": false,
   "title_cell": "Table of Contents",
   "title_sidebar": "Contents",
   "toc_cell": false,
   "toc_position": {},
   "toc_section_display": true,
   "toc_window_display": false
  }
 },
 "nbformat": 4,
 "nbformat_minor": 5
}
