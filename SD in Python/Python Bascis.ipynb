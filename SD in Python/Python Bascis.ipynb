{
 "cells": [
  {
   "cell_type": "markdown",
   "id": "6382aa08",
   "metadata": {},
   "source": [
    "# Basics"
   ]
  },
  {
   "cell_type": "markdown",
   "id": "405572aa",
   "metadata": {},
   "source": [
    "**Operation Priority**\n",
    "1. Parentheses\n",
    "2. Exponential \n",
    "3. Multiplication & Division\n",
    "4. Addition & Subtraction\n",
    "5. Relational (==, !=, <=, <. >=, >)\n",
    "6. Logical not\n",
    "7. Logical and\n",
    "8. Logical or\n",
    "\n",
    "A **statement** is an instruction that python interpreter can execute\n",
    "\n",
    "A **module** is a file containing python definitions and statements\n",
    "\n",
    "**Errors**\n",
    "- Syntax (can be identified by compiler and interpreter): structure of a program and rules about the structure\n",
    "- Runtime (can be identified by interpreter): one that passed interpreter's syntax checks but bad operation\n",
    "- Semantic/Logic: not working as expected"
   ]
  },
  {
   "cell_type": "markdown",
   "id": "51355ebd",
   "metadata": {},
   "source": [
    "## String, List, Tuple\n",
    "\n",
    "**Index Operator**\n",
    "- From Begining: 0, 1, 2, 3, ...\n",
    "- From End ..., -4, -3, -2, -1\n",
    "- slice [n: m] does not include m\n",
    "- .count method for counting \n",
    "- .index for the loc\n",
    "- imutable items (string, list) will lead to the same object"
   ]
  },
  {
   "cell_type": "code",
   "execution_count": 5,
   "id": "d865a0d7",
   "metadata": {},
   "outputs": [
    {
     "name": "stdout",
     "output_type": "stream",
     "text": [
      "pzpzpzpzpz\n"
     ]
    }
   ],
   "source": [
    "let = \"z\"\n",
    "let_two = \"p\"\n",
    "c = let_two + let\n",
    "m = c*5\n",
    "print(m)"
   ]
  },
  {
   "cell_type": "code",
   "execution_count": 6,
   "id": "6e383709",
   "metadata": {},
   "outputs": [],
   "source": [
    "b = \"My, what a lovely day\"\n",
    "x = b.split(',')\n",
    "z = \"\".join(x)\n",
    "y = z.split()\n",
    "a = \"\".join(y)"
   ]
  },
  {
   "cell_type": "code",
   "execution_count": 7,
   "id": "7adf3637",
   "metadata": {},
   "outputs": [
    {
     "data": {
      "text/plain": [
       "'Mywhatalovelyday'"
      ]
     },
     "execution_count": 7,
     "metadata": {},
     "output_type": "execute_result"
    }
   ],
   "source": [
    "a"
   ]
  },
  {
   "cell_type": "code",
   "execution_count": null,
   "id": "9e462627",
   "metadata": {},
   "outputs": [],
   "source": []
  }
 ],
 "metadata": {
  "kernelspec": {
   "display_name": "Python 3 (ipykernel)",
   "language": "python",
   "name": "python3"
  },
  "language_info": {
   "codemirror_mode": {
    "name": "ipython",
    "version": 3
   },
   "file_extension": ".py",
   "mimetype": "text/x-python",
   "name": "python",
   "nbconvert_exporter": "python",
   "pygments_lexer": "ipython3",
   "version": "3.8.8"
  },
  "toc": {
   "base_numbering": 1,
   "nav_menu": {},
   "number_sections": true,
   "sideBar": true,
   "skip_h1_title": false,
   "title_cell": "Table of Contents",
   "title_sidebar": "Contents",
   "toc_cell": false,
   "toc_position": {
    "height": "calc(100% - 180px)",
    "left": "10px",
    "top": "150px",
    "width": "211.68px"
   },
   "toc_section_display": true,
   "toc_window_display": false
  }
 },
 "nbformat": 4,
 "nbformat_minor": 5
}
