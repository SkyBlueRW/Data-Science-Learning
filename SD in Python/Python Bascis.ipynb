{
 "cells": [
  {
   "cell_type": "markdown",
   "id": "6382aa08",
   "metadata": {},
   "source": [
    "# Basics"
   ]
  },
  {
   "cell_type": "markdown",
   "id": "405572aa",
   "metadata": {},
   "source": [
    "**Operation Priority**\n",
    "1. Parentheses\n",
    "2. Exponential \n",
    "3. Multiplication & Division\n",
    "4. Addition & Subtraction\n",
    "5. Relational (==, !=, <=, <. >=, >)\n",
    "6. Logical not\n",
    "7. Logical and\n",
    "8. Logical or\n",
    "\n",
    "A **statement** is an instruction that python interpreter can execute\n",
    "\n",
    "A **module** is a file containing python definitions and statements\n",
    "\n",
    "**Errors**\n",
    "- Syntax (can be identified by compiler and interpreter): structure of a program and rules about the structure\n",
    "- Runtime (can be identified by interpreter): one that passed interpreter's syntax checks but bad operation\n",
    "- Semantic/Logic: not working as expected"
   ]
  },
  {
   "cell_type": "markdown",
   "id": "41360d81",
   "metadata": {},
   "source": [
    "## String, List, Tuple\n",
    "\n",
    "**Index Operator**\n",
    "- From Begining: 0, 1, 2, 3, ...\n",
    "- From End ..., -4, -3, -2, -1\n",
    "- slice [n: m] does not include m\n",
    "\n",
    "\n",
    "**Alias** b=a\n",
    "- Depending on if a is muttable or inmuttable\n",
    "\n",
    "**Inmutable**\n",
    "```python\n",
    "a = 'banana'\n",
    "b = 'banana'\n",
    "\n",
    "a is b   # True\n",
    "a == b # True\n",
    "```\n",
    "\n",
    "**Mutable**\n",
    "```python\n",
    "a = [1,2,3]\n",
    "b = [1,2,3]\n",
    "a is b # False\n",
    "a == b # True\n",
    "```"
   ]
  },
  {
   "cell_type": "markdown",
   "id": "7fb23bb6",
   "metadata": {},
   "source": [
    "## File IO\n",
    "\n",
    "**Method**\n",
    "- obj.write(string): add a string to the end of the file\n",
    "- obj.read(n): read and return a string of n characters or entire file as a single string if n not provided\n",
    "- obj.readline():read next line\n",
    "- obj.readlines(n): read lines as list of strings"
   ]
  },
  {
   "cell_type": "markdown",
   "id": "21e19cf3",
   "metadata": {},
   "source": [
    "# Data Processing\n",
    "\n",
    "## Copy (Deep and Shallow)\n",
    "\n"
   ]
  },
  {
   "cell_type": "code",
   "execution_count": 34,
   "id": "64e415ac",
   "metadata": {},
   "outputs": [
    {
     "name": "stdout",
     "output_type": "stream",
     "text": [
      "[['dogs', 'puppies'], ['cats', 'kittens']]\n",
      "False\n",
      "True\n",
      "[['dogs', 'puppies', ['canines']], ['cats', 'kittens']]\n",
      "-------- Now look at the copied version -----------\n",
      "[['dogs', 'puppies', ['canines']], ['cats', 'kittens']]\n"
     ]
    }
   ],
   "source": [
    "# Existence of Deep Aliasing requires deep copy\n",
    "original = [['dogs', 'puppies'], ['cats', \"kittens\"]]\n",
    "copied_version = original[:]\n",
    "print(copied_version)\n",
    "print(copied_version is original)\n",
    "print(copied_version == original)\n",
    "original[0].append([\"canines\"])\n",
    "print(original)\n",
    "print(\"-------- Now look at the copied version -----------\")\n",
    "print(copied_version)"
   ]
  },
  {
   "cell_type": "code",
   "execution_count": 35,
   "id": "70945778",
   "metadata": {},
   "outputs": [
    {
     "name": "stdout",
     "output_type": "stream",
     "text": [
      "-------- Original -----------\n",
      "[['canines', ['dogs', 'puppies'], ['marsupials']], ['felines', ['cats', 'kittens']], 'Hi there']\n",
      "-------- deep copy -----------\n",
      "[['canines', ['dogs', 'puppies']], ['felines', ['cats', 'kittens']]]\n",
      "-------- shallow copy -----------\n",
      "[['canines', ['dogs', 'puppies'], ['marsupials']], ['felines', ['cats', 'kittens']]]\n"
     ]
    }
   ],
   "source": [
    "import copy\n",
    "original = [['canines', ['dogs', 'puppies']], ['felines', ['cats', 'kittens']]]\n",
    "shallow_copy_version = original[:]\n",
    "deeply_copied_version = copy.deepcopy(original)\n",
    "original.append(\"Hi there\")\n",
    "original[0].append([\"marsupials\"])\n",
    "print(\"-------- Original -----------\")\n",
    "print(original)\n",
    "print(\"-------- deep copy -----------\")\n",
    "print(deeply_copied_version)\n",
    "print(\"-------- shallow copy -----------\")\n",
    "print(shallow_copy_version)\n"
   ]
  },
  {
   "cell_type": "markdown",
   "id": "5fe34c24",
   "metadata": {},
   "source": [
    "## DataType\n",
    "**json** stands for JavaScript Object Notation. A data format like nested dictionaries and lists\n",
    "- json.loads() takes string as input and produces a python object and output dictionary or list\n",
    "- json.dump(obj, sort_keys=True, ident=2) take a python object and return string"
   ]
  },
  {
   "cell_type": "markdown",
   "id": "b6b14eee",
   "metadata": {},
   "source": [
    "## Scale\n",
    "\n",
    "- map(func, iterable): produces a generator\n",
    "- filter(func, iterable): func should return True (remain) and False (exclude)\n",
    "- list comprehension\n",
    "```python\n",
    "[<transformer_expression> for <loop_var> in <sequence> if <filtration_expression>]\n",
    "```"
   ]
  },
  {
   "cell_type": "markdown",
   "id": "28b9ff5f",
   "metadata": {},
   "source": [
    "# API\n",
    "\n",
    "Application Programming Interface\n",
    "\n",
    "**REST API**: REpresentational State Transfer. Makes HTTP request to remote server\n",
    "\n",
    "https://itunes.apple.com/search?term=Ann+Arbor&entity=podcast\n",
    "- base URL\n",
    "- ? character\n",
    "- one or more key-value pairs, formated key=value pairs and separated by &\n",
    "\n",
    "\n",
    "## Fetch Data\n",
    "```python\n",
    "requests.get(\"http://bar.com/goodstuff\", params = {'greet': 'hi there', 'frosted':'no'})\n",
    "```\n",
    "\n",
    "requests.get(url) returns a response object with the following attribute\n",
    "\n",
    "    - text\n",
    "    - url\n",
    "    - json()\n",
    "    - status_code (not available in Runestone implementation)\n",
    "    - headers (not available in Runestone implementation)\n",
    "    - history (not available in Runestone implementation)\n",
    "    \n",
    "**How to use a REST API**\n",
    "\n",
    "1. What is the baseurl? Can come with various endpoint \n",
    "\n",
    "2. What keys should you provide in the dictionary you pass for the params parameter?\n",
    "\n",
    "3. What values should you provide associated with those keys?\n",
    "\n",
    "4. Do you need to authenticate yourself as a licensed user of the API and, if so, how?\n",
    "\n",
    "5. What is the structure and meaning of the data that will be provided?\n",
    "\n",
    "**Cache**\n",
    "```python\n",
    "# module\n",
    "requests_with_caching \n",
    "```"
   ]
  },
  {
   "cell_type": "code",
   "execution_count": null,
   "id": "75c3d199",
   "metadata": {},
   "outputs": [],
   "source": []
  }
 ],
 "metadata": {
  "kernelspec": {
   "display_name": "Python 3 (ipykernel)",
   "language": "python",
   "name": "python3"
  },
  "language_info": {
   "codemirror_mode": {
    "name": "ipython",
    "version": 3
   },
   "file_extension": ".py",
   "mimetype": "text/x-python",
   "name": "python",
   "nbconvert_exporter": "python",
   "pygments_lexer": "ipython3",
   "version": "3.8.8"
  },
  "toc": {
   "base_numbering": 1,
   "nav_menu": {},
   "number_sections": true,
   "sideBar": true,
   "skip_h1_title": false,
   "title_cell": "Table of Contents",
   "title_sidebar": "Contents",
   "toc_cell": false,
   "toc_position": {
    "height": "calc(100% - 180px)",
    "left": "10px",
    "top": "150px",
    "width": "211.68px"
   },
   "toc_section_display": true,
   "toc_window_display": false
  }
 },
 "nbformat": 4,
 "nbformat_minor": 5
}
