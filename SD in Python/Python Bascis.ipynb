{
 "cells": [
  {
   "cell_type": "markdown",
   "id": "6382aa08",
   "metadata": {},
   "source": [
    "# Basics"
   ]
  },
  {
   "cell_type": "markdown",
   "id": "405572aa",
   "metadata": {},
   "source": [
    "**Operation Priority**\n",
    "1. Parentheses\n",
    "2. Exponential \n",
    "3. Multiplication & Division\n",
    "4. Addition & Subtraction\n",
    "5. Relational (==, !=, <=, <. >=, >)\n",
    "6. Logical not\n",
    "7. Logical and\n",
    "8. Logical or\n",
    "\n",
    "A **statement** is an instruction that python interpreter can execute\n",
    "\n",
    "A **module** is a file containing python definitions and statements\n",
    "\n",
    "**Errors**\n",
    "- Syntax (can be identified by compiler and interpreter): structure of a program and rules about the structure\n",
    "- Runtime (can be identified by interpreter): one that passed interpreter's syntax checks but bad operation\n",
    "- Semantic/Logic: not working as expected"
   ]
  },
  {
   "cell_type": "markdown",
   "id": "41360d81",
   "metadata": {},
   "source": [
    "## String, List, Tuple\n",
    "\n",
    "**Index Operator**\n",
    "- From Begining: 0, 1, 2, 3, ...\n",
    "- From End ..., -4, -3, -2, -1\n",
    "- slice [n: m] does not include m\n",
    "\n",
    "\n",
    "**Alias** b=a\n",
    "- Depending on if a is muttable or inmuttable\n",
    "\n",
    "**Inmutable**\n",
    "```python\n",
    "a = 'banana'\n",
    "b = 'banana'\n",
    "\n",
    "a is b   # True\n",
    "a == b # True\n",
    "```\n",
    "\n",
    "**Mutable**\n",
    "```python\n",
    "a = [1,2,3]\n",
    "b = [1,2,3]\n",
    "a is b # False\n",
    "a == b # True\n",
    "```"
   ]
  },
  {
   "cell_type": "markdown",
   "id": "7fb23bb6",
   "metadata": {},
   "source": [
    "## File IO\n",
    "\n",
    "**Method**\n",
    "- obj.write(string): add a string to the end of the file\n",
    "- obj.read(n): read and return a string of n characters or entire file as a single string if n not provided\n",
    "- obj.readline():read next line\n",
    "- obj.readlines(n): read lines as list of strings"
   ]
  }
 ],
 "metadata": {
  "kernelspec": {
   "display_name": "Python 3 (ipykernel)",
   "language": "python",
   "name": "python3"
  },
  "language_info": {
   "codemirror_mode": {
    "name": "ipython",
    "version": 3
   },
   "file_extension": ".py",
   "mimetype": "text/x-python",
   "name": "python",
   "nbconvert_exporter": "python",
   "pygments_lexer": "ipython3",
   "version": "3.8.8"
  },
  "toc": {
   "base_numbering": 1,
   "nav_menu": {},
   "number_sections": true,
   "sideBar": true,
   "skip_h1_title": false,
   "title_cell": "Table of Contents",
   "title_sidebar": "Contents",
   "toc_cell": false,
   "toc_position": {
    "height": "calc(100% - 180px)",
    "left": "10px",
    "top": "150px",
    "width": "211.68px"
   },
   "toc_section_display": true,
   "toc_window_display": false
  }
 },
 "nbformat": 4,
 "nbformat_minor": 5
}
