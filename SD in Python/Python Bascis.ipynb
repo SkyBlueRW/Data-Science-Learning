{
 "cells": [
  {
   "cell_type": "markdown",
   "id": "6382aa08",
   "metadata": {},
   "source": [
    "# Basics"
   ]
  },
  {
   "cell_type": "markdown",
   "id": "405572aa",
   "metadata": {},
   "source": [
    "**Operation Priority**\n",
    "1. Parentheses\n",
    "2. Exponential \n",
    "3. Multiplication & Division\n",
    "4. Addition & Subtraction\n",
    "\n",
    "A **statement** is an instruction that python interpreter can execute\n",
    "\n",
    "A **module** is a file containing python definitions and statements\n",
    "\n",
    "**Errors**\n",
    "- Syntax (can be identified by compiler and interpreter): structure of a program and rules about the structure\n",
    "- Runtime (can be identified by interpreter): one that passed interpreter's syntax checks but bad operation\n",
    "- Semantic/Logic: not working as expected"
   ]
  },
  {
   "cell_type": "code",
   "execution_count": null,
   "id": "c3932800",
   "metadata": {},
   "outputs": [],
   "source": []
  }
 ],
 "metadata": {
  "kernelspec": {
   "display_name": "Python 3 (ipykernel)",
   "language": "python",
   "name": "python3"
  },
  "language_info": {
   "codemirror_mode": {
    "name": "ipython",
    "version": 3
   },
   "file_extension": ".py",
   "mimetype": "text/x-python",
   "name": "python",
   "nbconvert_exporter": "python",
   "pygments_lexer": "ipython3",
   "version": "3.8.8"
  },
  "toc": {
   "base_numbering": 1,
   "nav_menu": {},
   "number_sections": true,
   "sideBar": true,
   "skip_h1_title": false,
   "title_cell": "Table of Contents",
   "title_sidebar": "Contents",
   "toc_cell": false,
   "toc_position": {
    "height": "calc(100% - 180px)",
    "left": "10px",
    "top": "150px",
    "width": "211.68px"
   },
   "toc_section_display": true,
   "toc_window_display": false
  }
 },
 "nbformat": 4,
 "nbformat_minor": 5
}
