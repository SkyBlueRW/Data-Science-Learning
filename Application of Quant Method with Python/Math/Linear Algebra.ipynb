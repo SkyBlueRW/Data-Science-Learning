{
 "cells": [
  {
   "cell_type": "code",
   "execution_count": 3,
   "id": "5277f67f",
   "metadata": {},
   "outputs": [],
   "source": [
    "import numpy as np"
   ]
  },
  {
   "cell_type": "markdown",
   "id": "701d5cd6",
   "metadata": {},
   "source": [
    "# Eigenvalues and Eigenvectors\n",
    "\n",
    "\n",
    "For a square matrix A:\n",
    "1. Determinant of A equals the product of the eigenvalues\n",
    "2. Trace of A equals the sum of the eigenvalues\n",
    "3. If a is symmetric, all of its eigenvalues are real\n",
    "4. If A is invertible. Then the eigenvalues of $A^{-1}$ are $\\dfrac{1}{\\lambda_i}$"
   ]
  },
  {
   "cell_type": "code",
   "execution_count": 8,
   "id": "fa6e74ff",
   "metadata": {},
   "outputs": [],
   "source": [
    "A = np.array([[1,2],[2,1]])\n",
    "# columns of evecs are eigenvectors of A\n",
    "evals, evecs = np.linalg.eig(A)"
   ]
  },
  {
   "cell_type": "markdown",
   "id": "2e705b5f",
   "metadata": {},
   "source": [
    "# QR Decomposition\n",
    "$A = QR$\n",
    "\n",
    "- Q is an orthogonal matrix ($Q^TQ=I$)\n",
    "- R is an upper triagular Matrix\n",
    "\n",
    "If a square matrix A is nonsigular, then QR factorization is unique"
   ]
  },
  {
   "cell_type": "code",
   "execution_count": 16,
   "id": "4abd4b41",
   "metadata": {},
   "outputs": [],
   "source": [
    "def QR_Decomposition(A):\n",
    "    \"\"\"\n",
    "    https://python.quantecon.org/qr_decomp.html\n",
    "    \n",
    "    QR decomposition is equivalent to Gram-Schmidt process (with Q as the resulting independent matrix)\n",
    "    \n",
    "    \"\"\"\n",
    "    \n",
    "    n, m = A.shape\n",
    "    \n",
    "    Q = np.empty((n, n))\n",
    "    u = np.empty((n, n))\n",
    "    \n",
    "    u[:, 0] = A[:, 0]\n",
    "    Q[:, 0] = u[:, 0] / np.linalg.norm(u[:, 0])\n",
    "    \n",
    "    for i in range(1, n):\n",
    "        u[:, i] = A[:, i]\n",
    "        for j in range(i):\n",
    "            # Gram-Schmidt process\n",
    "            u[:, i] -= (A[:, i] @ Q[:, j]) * Q[:, j]\n",
    "        Q[:, i] = u[:, i] / np.linalg.norm(u[:, i])\n",
    "        \n",
    "    R = np.zeros((n, m))\n",
    "    for i in range(n):\n",
    "        for j in range(i, m):\n",
    "            R[i, j] = A[:, j] @ Q[:, i]\n",
    "            \n",
    "    return Q, R\n",
    "\n",
    "A = np.array([[1.0, 1.0, 0.0], [1.0, 0.0, 1.0], [0.0, 1.0, 1.0]])\n",
    "Q, R = QR_Decomposition(A)"
   ]
  },
  {
   "cell_type": "markdown",
   "id": "e6789e35",
   "metadata": {},
   "source": [
    "# Numpy Implementation"
   ]
  },
  {
   "cell_type": "markdown",
   "id": "f4278952",
   "metadata": {},
   "source": [
    "## Broadcasting\n",
    "\n",
    "- Step 1: When **dimensions** of two arrays do not match, Numpy will expand the one with fewer dimensions by adding dimensions on the left of the existing dimensions.\n",
    "    \n",
    "    I.E. a (3,2,2); b(2,). b will become (1,1,2)\n",
    "\n",
    "\n",
    "- Step 2: When the two arrays have the same dimension but **different shapes**, Numpy will try to expand the dimension with shape 1\n",
    "- Step 3: After Step 1 and 2, if two arrays still do not match, a ValueError will be raised."
   ]
  },
  {
   "cell_type": "code",
   "execution_count": 4,
   "id": "724488f2",
   "metadata": {},
   "outputs": [],
   "source": [
    "np.linalg.norm?"
   ]
  },
  {
   "cell_type": "code",
   "execution_count": null,
   "id": "891550b5",
   "metadata": {},
   "outputs": [],
   "source": []
  }
 ],
 "metadata": {
  "kernelspec": {
   "display_name": "Python 3 (ipykernel)",
   "language": "python",
   "name": "python3"
  },
  "language_info": {
   "codemirror_mode": {
    "name": "ipython",
    "version": 3
   },
   "file_extension": ".py",
   "mimetype": "text/x-python",
   "name": "python",
   "nbconvert_exporter": "python",
   "pygments_lexer": "ipython3",
   "version": "3.8.8"
  },
  "toc": {
   "base_numbering": 1,
   "nav_menu": {},
   "number_sections": true,
   "sideBar": true,
   "skip_h1_title": false,
   "title_cell": "Table of Contents",
   "title_sidebar": "Contents",
   "toc_cell": false,
   "toc_position": {},
   "toc_section_display": true,
   "toc_window_display": false
  }
 },
 "nbformat": 4,
 "nbformat_minor": 5
}
