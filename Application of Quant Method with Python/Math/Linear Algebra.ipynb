{
 "cells": [
  {
   "cell_type": "code",
   "execution_count": 3,
   "id": "946a90d8",
   "metadata": {},
   "outputs": [],
   "source": [
    "import numpy as np"
   ]
  },
  {
   "cell_type": "markdown",
   "id": "7b0f89fd",
   "metadata": {},
   "source": [
    "# Eigenvalues and Eigenvectors\n",
    "\n",
    "\n",
    "For a square matrix A:\n",
    "1. Determinant of A equals the product of the eigenvalues\n",
    "2. Trace of A equals the sum of the eigenvalues\n",
    "3. If a is symmetric, all of its eigenvalues are real\n",
    "4. If A is invertible. Then the eigenvalues of $A^{-1}$ are $\\dfrac{1}{\\lambda_i}$"
   ]
  },
  {
   "cell_type": "code",
   "execution_count": 8,
   "id": "00358a68",
   "metadata": {},
   "outputs": [],
   "source": [
    "A = np.array([[1,2],[2,1]])\n",
    "# columns of evecs are eigenvectors of A\n",
    "evals, evecs = np.linalg.eig(A)"
   ]
  },
  {
   "cell_type": "markdown",
   "id": "887189c1",
   "metadata": {},
   "source": [
    "# QR Decomposition\n",
    "$A = QR$\n",
    "\n",
    "- Q is an orthogonal matrix ($Q^TQ=I$)\n",
    "- R is an upper triagular Matrix\n",
    "\n",
    "If a square matrix A is nonsigular, then QR factorization is unique"
   ]
  },
  {
   "cell_type": "code",
   "execution_count": 16,
   "id": "21fe6da6",
   "metadata": {},
   "outputs": [],
   "source": [
    "def QR_Decomposition(A):\n",
    "    \"\"\"\n",
    "    https://python.quantecon.org/qr_decomp.html\n",
    "    \n",
    "    QR decomposition is equivalent to Gram-Schmidt process (with Q as the resulting independent matrix)\n",
    "    \n",
    "    \"\"\"\n",
    "    \n",
    "    n, m = A.shape\n",
    "    \n",
    "    Q = np.empty((n, n))\n",
    "    u = np.empty((n, n))\n",
    "    \n",
    "    u[:, 0] = A[:, 0]\n",
    "    Q[:, 0] = u[:, 0] / np.linalg.norm(u[:, 0])\n",
    "    \n",
    "    for i in range(1, n):\n",
    "        u[:, i] = A[:, i]\n",
    "        for j in range(i):\n",
    "            # Gram-Schmidt process\n",
    "            u[:, i] -= (A[:, i] @ Q[:, j]) * Q[:, j]\n",
    "        Q[:, i] = u[:, i] / np.linalg.norm(u[:, i])\n",
    "        \n",
    "    R = np.zeros((n, m))\n",
    "    for i in range(n):\n",
    "        for j in range(i, m):\n",
    "            R[i, j] = A[:, j] @ Q[:, i]\n",
    "            \n",
    "    return Q, R\n",
    "\n",
    "A = np.array([[1.0, 1.0, 0.0], [1.0, 0.0, 1.0], [0.0, 1.0, 1.0]])\n",
    "Q, R = QR_Decomposition(A)"
   ]
  },
  {
   "cell_type": "markdown",
   "id": "71d4eb7a",
   "metadata": {},
   "source": [
    "# Singular Value Decomposition\n",
    "\n",
    "Matrix **X** (m*n) of rank p\n",
    "- n: sample\n",
    "- m: attribution\n",
    "\n",
    "$X = U\\Sigma V^T$\n",
    "- $UU^T=I$, $U^TU=I$\n",
    "- $VV^T=I$, $V^TV=I$"
   ]
  },
  {
   "cell_type": "code",
   "execution_count": 1,
   "id": "650ff860",
   "metadata": {},
   "outputs": [
    {
     "name": "stdout",
     "output_type": "stream",
     "text": [
      "U, S, V =\n"
     ]
    },
    {
     "data": {
      "text/plain": [
       "(array([[-0.29186613,  0.65946664, -0.09420768, -0.6792746 ,  0.09812666],\n",
       "        [-0.49908744, -0.33887884, -0.57264381, -0.11362608, -0.54336087],\n",
       "        [-0.51143062, -0.2538992 ,  0.78739929, -0.16025057, -0.16821423],\n",
       "        [-0.51935197,  0.48181491, -0.02660546,  0.70292526,  0.057586  ],\n",
       "        [-0.36665807, -0.39198784, -0.20615158, -0.07675264,  0.81456611]]),\n",
       " array([1.34162221, 0.52158107]),\n",
       " array([[-0.71454801, -0.69958641],\n",
       "        [ 0.69958641, -0.71454801]]))"
      ]
     },
     "execution_count": 1,
     "metadata": {},
     "output_type": "execute_result"
    }
   ],
   "source": [
    "import numpy as np\n",
    "X = np.random.rand(5,2)\n",
    "U, S, V = np.linalg.svd(X,full_matrices=True)  # full SVD\n",
    "Uhat, Shat, Vhat = np.linalg.svd(X,full_matrices=False) # economy SVD\n",
    "print('U, S, V =')\n",
    "U, S, V"
   ]
  },
  {
   "cell_type": "markdown",
   "id": "7559bb53",
   "metadata": {},
   "source": [
    "# Numpy Implementation"
   ]
  },
  {
   "cell_type": "markdown",
   "id": "c881818e",
   "metadata": {},
   "source": [
    "## Broadcasting\n",
    "\n",
    "- Step 1: When **dimensions** of two arrays do not match, Numpy will expand the one with fewer dimensions by adding dimensions on the left of the existing dimensions.\n",
    "    \n",
    "    I.E. a (3,2,2); b(2,). b will become (1,1,2)\n",
    "\n",
    "\n",
    "- Step 2: When the two arrays have the same dimension but **different shapes**, Numpy will try to expand the dimension with shape 1\n",
    "- Step 3: After Step 1 and 2, if two arrays still do not match, a ValueError will be raised."
   ]
  },
  {
   "cell_type": "code",
   "execution_count": null,
   "id": "015374ed",
   "metadata": {},
   "outputs": [],
   "source": []
  }
 ],
 "metadata": {
  "kernelspec": {
   "display_name": "Python 3 (ipykernel)",
   "language": "python",
   "name": "python3"
  },
  "language_info": {
   "codemirror_mode": {
    "name": "ipython",
    "version": 3
   },
   "file_extension": ".py",
   "mimetype": "text/x-python",
   "name": "python",
   "nbconvert_exporter": "python",
   "pygments_lexer": "ipython3",
   "version": "3.8.8"
  },
  "toc": {
   "base_numbering": 1,
   "nav_menu": {},
   "number_sections": true,
   "sideBar": true,
   "skip_h1_title": false,
   "title_cell": "Table of Contents",
   "title_sidebar": "Contents",
   "toc_cell": false,
   "toc_position": {},
   "toc_section_display": true,
   "toc_window_display": false
  }
 },
 "nbformat": 4,
 "nbformat_minor": 5
}
