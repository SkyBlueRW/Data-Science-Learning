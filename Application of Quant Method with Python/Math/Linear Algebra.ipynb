{
 "cells": [
  {
   "cell_type": "code",
   "execution_count": 3,
   "id": "46d827bc",
   "metadata": {},
   "outputs": [],
   "source": [
    "import numpy as np"
   ]
  },
  {
   "cell_type": "markdown",
   "id": "d354222a",
   "metadata": {},
   "source": [
    "# Basic Linear Algebra"
   ]
  },
  {
   "cell_type": "markdown",
   "id": "0184c694",
   "metadata": {},
   "source": [
    "## Eigenvalues and Eigenvectors\n",
    "\n",
    "\n",
    "For a square matrix A:\n",
    "1. Determinant of A equals the product of the eigenvalues\n",
    "2. Trace of A equals the sum of the eigenvalues\n",
    "3. If a is symmetric, all of its eigenvalues are real\n",
    "4. If A is invertible. Then the eigenvalues of $A^{-1}$ are $\\dfrac{1}{\\lambda_i}$"
   ]
  },
  {
   "cell_type": "code",
   "execution_count": 6,
   "id": "2b0dacaf",
   "metadata": {},
   "outputs": [],
   "source": [
    "A = np.array([[1,2],[2,1]])\n",
    "eval"
   ]
  },
  {
   "cell_type": "markdown",
   "id": "52c95695",
   "metadata": {},
   "source": [
    "# Numpy Implementation"
   ]
  },
  {
   "cell_type": "markdown",
   "id": "8bef0063",
   "metadata": {},
   "source": [
    "## Broadcasting\n",
    "\n",
    "- Step 1: When **dimensions** of two arrays do not match, Numpy will expand the one with fewer dimensions by adding dimensions on the left of the existing dimensions.\n",
    "    \n",
    "    I.E. a (3,2,2); b(2,). b will become (1,1,2)\n",
    "\n",
    "\n",
    "- Step 2: When the two arrays have the same dimension but **different shapes**, Numpy will try to expand the dimension with shape 1\n",
    "- Step 3: After Step 1 and 2, if two arrays still do not match, a ValueError will be raised."
   ]
  },
  {
   "cell_type": "code",
   "execution_count": 4,
   "id": "3ae8b54d",
   "metadata": {},
   "outputs": [],
   "source": [
    "np.linalg.norm?"
   ]
  },
  {
   "cell_type": "code",
   "execution_count": null,
   "id": "27e2eece",
   "metadata": {},
   "outputs": [],
   "source": []
  }
 ],
 "metadata": {
  "kernelspec": {
   "display_name": "Python 3 (ipykernel)",
   "language": "python",
   "name": "python3"
  },
  "language_info": {
   "codemirror_mode": {
    "name": "ipython",
    "version": 3
   },
   "file_extension": ".py",
   "mimetype": "text/x-python",
   "name": "python",
   "nbconvert_exporter": "python",
   "pygments_lexer": "ipython3",
   "version": "3.8.8"
  },
  "toc": {
   "base_numbering": 1,
   "nav_menu": {},
   "number_sections": true,
   "sideBar": true,
   "skip_h1_title": false,
   "title_cell": "Table of Contents",
   "title_sidebar": "Contents",
   "toc_cell": false,
   "toc_position": {},
   "toc_section_display": true,
   "toc_window_display": false
  }
 },
 "nbformat": 4,
 "nbformat_minor": 5
}
